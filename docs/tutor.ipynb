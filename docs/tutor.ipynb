{
 "metadata": {
  "language_info": {
   "codemirror_mode": {
    "name": "ipython",
    "version": 3
   },
   "file_extension": ".py",
   "mimetype": "text/x-python",
   "name": "python",
   "nbconvert_exporter": "python",
   "pygments_lexer": "ipython3",
   "version": "3.9.6"
  },
  "orig_nbformat": 2,
  "kernelspec": {
   "name": "python3",
   "display_name": "Python 3.9.6 64-bit ('venv': venv)",
   "metadata": {
    "interpreter": {
     "hash": "886cdb69018d728e753dae27e4f7147e9852600643475f63c76b3666d4669c68"
    }
   }
  }
 },
 "nbformat": 4,
 "nbformat_minor": 2,
 "cells": [
  {
   "source": [
    "### Tutorial for dialog flow framework \n",
    "Descriptionn of dff and links...."
   ],
   "cell_type": "markdown",
   "metadata": {}
  },
  {
   "cell_type": "code",
   "execution_count": null,
   "metadata": {},
   "outputs": [],
   "source": [
    "# # installation\n",
    "# !pip install git+https://github.com/deepmipt/dialog_flow_framework.git@dev"
   ]
  },
  {
   "source": [
    "If you want to get more info about runtime of dff you can change level of logging"
   ],
   "cell_type": "markdown",
   "metadata": {}
  },
  {
   "cell_type": "code",
   "execution_count": null,
   "metadata": {},
   "outputs": [],
   "source": [
    "import logging\n",
    "\n",
    "logging.basicConfig(format=\"%(asctime)s - %(name)s - %(levelname)s - %(message)s\", level=logging.DEBUG)\n",
    "logger = logging.getLogger(__name__)"
   ]
  },
  {
   "source": [
    "Let's try a simple example. \n",
    "\n",
    "We need keywords `GRAPH`, `RESPONSE`, `TRANSITIONS` for dialog description. `GRAPH` - it's spetial keyword for dialog graph definition, `RESPONSE` - defines answers of our bot, `TRANSITIONS` - defines conditions for transition in a dialog graph.\n",
    "\n",
    "The next abstractions are `Context` and `Actor`. `Context` containes all context of a dialog. Context is easy serializable by different ways (e.g. `Context().json()`). `Actor` executes handler incomming `Context` and return updated `Context` with selected response. "
   ],
   "cell_type": "markdown",
   "metadata": {}
  },
  {
   "cell_type": "code",
   "execution_count": 16,
   "metadata": {},
   "outputs": [
    {
     "output_type": "stream",
     "name": "stderr",
     "text": [
      "2021-08-04 15:20:47,215 - dff.core.actor - DEBUG - global transitions sorted by priority = []\n",
      "2021-08-04 15:20:47,219 - dff.core.actor - DEBUG - local transitions sorted by priority = [('start_flow', 'hello_node', 1.0)]\n",
      "2021-08-04 15:20:47,226 - dff.core.actor - DEBUG - global transitions sorted by priority = []\n",
      "2021-08-04 15:20:47,231 - dff.core.actor - DEBUG - local transitions sorted by priority = [('start_flow', 'im_fine', 1.0)]\n",
      "2021-08-04 15:20:47,236 - dff.core.actor - DEBUG - global transitions sorted by priority = []\n",
      "2021-08-04 15:20:47,237 - dff.core.actor - DEBUG - local transitions sorted by priority = []\n",
      "you: hello\n",
      "bot: hi\n",
      "you: how are you\n",
      "bot: i'm fine\n",
      "you: ok\n",
      "bot: oops\n"
     ]
    }
   ],
   "source": [
    "from dff import GRAPH, RESPONSE, TRANSITIONS\n",
    "from dff import Context, Actor\n",
    "\n",
    "flow = {\n",
    "    GRAPH: {\n",
    "        \"hello_node\": {RESPONSE: \"hi\", TRANSITIONS: {\"im_fine\": \"how are you\", \"hello_node\": \"hello\"}},\n",
    "        \"im_fine\": {RESPONSE: \"i'm fine\"},\n",
    "        \"fallback\": {RESPONSE: \"oops\", TRANSITIONS: {\"hello_node\": \"hello\"}},\n",
    "    }\n",
    "}\n",
    "\n",
    "\n",
    "ctx = Context()\n",
    "actor = Actor(\n",
    "    {\"start_flow\": flow},\n",
    "    start_label=(\"start_flow\", \"hello_node\"),\n",
    "    fallback_label=(\"start_flow\", \"fallback\"),\n",
    ")\n",
    "in_text = \"hello\"\n",
    "ctx.add_request(in_text)\n",
    "ctx = actor(ctx)\n",
    "out_text = ctx.last_response\n",
    "print(f\"you: {in_text}\")\n",
    "print(f\"bot: {ctx.last_response}\")\n",
    "assert ctx.last_response == \"hi\"\n",
    "\n",
    "in_text = \"how are you\"\n",
    "ctx.add_request(in_text)\n",
    "ctx = actor(ctx)\n",
    "print(f\"you: {in_text}\")\n",
    "print(f\"bot: {ctx.last_response}\")\n",
    "assert ctx.last_response == \"i'm fine\"\n",
    "\n",
    "in_text = \"ok\"\n",
    "ctx.add_request(in_text)\n",
    "ctx = actor(ctx)\n",
    "print(f\"you: {in_text}\")\n",
    "print(f\"bot: {ctx.last_response}\")\n",
    "assert ctx.last_response == \"oops\"\n"
   ]
  },
  {
   "cell_type": "code",
   "execution_count": null,
   "metadata": {},
   "outputs": [],
   "source": []
  }
 ]
}